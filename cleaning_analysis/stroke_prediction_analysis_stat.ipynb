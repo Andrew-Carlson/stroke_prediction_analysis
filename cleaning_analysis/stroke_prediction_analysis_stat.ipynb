{
 "cells": [
  {
   "cell_type": "code",
   "execution_count": 2,
   "id": "c71bc6c7",
   "metadata": {},
   "outputs": [],
   "source": [
    "# import dependencies\n",
    "import numpy as np\n",
    "import pandas as pd\n",
    "import matplotlib.pyplot as plt\n",
    "%matplotlib inline\n",
    "from pathlib import Path\n",
    "from collections import Counter\n",
    "# Import the style from Matplotlib.\n",
    "from matplotlib import style\n",
    "# Use the graph style fivethirtyeight.\n",
    "style.use('fivethirtyeight')\n",
    "import seaborn as sns\n"
   ]
  },
  {
   "cell_type": "markdown",
   "id": "01ff5f35",
   "metadata": {},
   "source": [
    "## Read in the Clean CSV File"
   ]
  },
  {
   "cell_type": "code",
   "execution_count": null,
   "id": "f1525a15",
   "metadata": {},
   "outputs": [],
   "source": [
    "# Create a DataFrame for the healthcare-dataset-stroke-data.csv. \n",
    "stroke_df = pd.read_csv('../resources/clean_stroke_df.csv')\n",
    "stroke_df.head()"
   ]
  },
  {
   "cell_type": "code",
   "execution_count": null,
   "id": "c443dfb6",
   "metadata": {},
   "outputs": [],
   "source": [
    "# count()\n",
    "# dtypes\n",
    "# value_counts()\n",
    "# info()\n"
   ]
  },
  {
   "cell_type": "code",
   "execution_count": null,
   "id": "befe188f",
   "metadata": {},
   "outputs": [],
   "source": [
    "# stroke_df.plot(kind=\"bar\") week 5 day 2\n"
   ]
  }
 ],
 "metadata": {
  "kernelspec": {
   "display_name": "mlenv",
   "language": "python",
   "name": "mlenv"
  },
  "language_info": {
   "codemirror_mode": {
    "name": "ipython",
    "version": 3
   },
   "file_extension": ".py",
   "mimetype": "text/x-python",
   "name": "python",
   "nbconvert_exporter": "python",
   "pygments_lexer": "ipython3",
   "version": "3.8.13"
  }
 },
 "nbformat": 4,
 "nbformat_minor": 5
}
